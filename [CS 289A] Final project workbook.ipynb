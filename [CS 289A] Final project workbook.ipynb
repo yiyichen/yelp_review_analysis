{
 "cells": [
  {
   "cell_type": "code",
   "execution_count": 1,
   "metadata": {},
   "outputs": [],
   "source": [
    "import MySQLdb\n",
    "import spacy\n",
    "import pandas as pd\n",
    "import matplotlib.pyplot as plt\n",
    "import numpy as np\n",
    "import time\n",
    "from collections import Counter\n",
    "from sklearn.feature_extraction.text import CountVectorizer, TfidfVectorizer \n",
    "from sklearn.decomposition import PCA\n",
    "from numpy.linalg import inv, svd\n",
    "from scipy.linalg import sqrtm\n",
    "from sklearn.preprocessing import StandardScaler\n",
    "from sklearn.model_selection import train_test_split\n",
    "from sklearn.linear_model import Ridge\n",
    "\n",
    "%matplotlib inline\n",
    "plt.style.use('ggplot')"
   ]
  },
  {
   "cell_type": "code",
   "execution_count": 2,
   "metadata": {},
   "outputs": [],
   "source": [
    "# # uncomment the below code block to produce report friendly plots\n",
    "# import matplotlib\n",
    "# matplotlib.rcParams.update(matplotlib.rcParamsDefault)\n",
    "# font = {'size':18}\n",
    "\n",
    "# matplotlib.rc('font', **font)"
   ]
  },
  {
   "cell_type": "code",
   "execution_count": 3,
   "metadata": {},
   "outputs": [],
   "source": [
    "nlp = spacy.load('en_core_web_sm')"
   ]
  },
  {
   "cell_type": "code",
   "execution_count": 4,
   "metadata": {},
   "outputs": [],
   "source": [
    "all_tags = ['JJ', 'JJR', 'JJS', 'RB', 'RBR', 'RBS', 'NN', 'NNS', 'NNPS', 'NNP']\n",
    "adj_tags = ['JJ', 'JJR', 'JJS', 'RB', 'RBR', 'RBS']\n",
    "nn_tags = ['NN', 'NNS', 'NNPS', 'NNP']\n",
    "good_heads = ['NOUN', 'VERB']"
   ]
  },
  {
   "cell_type": "markdown",
   "metadata": {},
   "source": [
    "## Data Loading"
   ]
  },
  {
   "cell_type": "code",
   "execution_count": 5,
   "metadata": {},
   "outputs": [],
   "source": [
    "db = MySQLdb.connect(host=\"127.0.0.1\",user=\"yiyi\", passwd=\"19920108\",db=\"yelp_db\")"
   ]
  },
  {
   "cell_type": "markdown",
   "metadata": {},
   "source": [
    "Load restaurant review data and take a look."
   ]
  },
  {
   "cell_type": "code",
   "execution_count": 6,
   "metadata": {},
   "outputs": [
    {
     "data": {
      "text/html": [
       "<div>\n",
       "<style scoped>\n",
       "    .dataframe tbody tr th:only-of-type {\n",
       "        vertical-align: middle;\n",
       "    }\n",
       "\n",
       "    .dataframe tbody tr th {\n",
       "        vertical-align: top;\n",
       "    }\n",
       "\n",
       "    .dataframe thead th {\n",
       "        text-align: right;\n",
       "    }\n",
       "</style>\n",
       "<table border=\"1\" class=\"dataframe\">\n",
       "  <thead>\n",
       "    <tr style=\"text-align: right;\">\n",
       "      <th></th>\n",
       "      <th>id</th>\n",
       "      <th>business_id</th>\n",
       "      <th>user_id</th>\n",
       "      <th>stars</th>\n",
       "      <th>date</th>\n",
       "      <th>text</th>\n",
       "      <th>useful</th>\n",
       "      <th>funny</th>\n",
       "      <th>cool</th>\n",
       "    </tr>\n",
       "  </thead>\n",
       "  <tbody>\n",
       "    <tr>\n",
       "      <th>0</th>\n",
       "      <td>----X0BIDP9tA49U3RvdSQ</td>\n",
       "      <td>Ue6-WhXvI-_1xUIuapl0zQ</td>\n",
       "      <td>gVmUR8rqUFdbSeZbsg6z_w</td>\n",
       "      <td>4</td>\n",
       "      <td>2014-02-17</td>\n",
       "      <td>Red, white and bleu salad was super yum and a ...</td>\n",
       "      <td>1</td>\n",
       "      <td>0</td>\n",
       "      <td>0</td>\n",
       "    </tr>\n",
       "    <tr>\n",
       "      <th>1</th>\n",
       "      <td>---0hl58W-sjVTKi5LghGw</td>\n",
       "      <td>Ae4ABFarGMaI5lk1i98A0w</td>\n",
       "      <td>Y6qylbHq8QJmaCRSlKdIog</td>\n",
       "      <td>4</td>\n",
       "      <td>2016-07-24</td>\n",
       "      <td>Ate the momos during the momo crawl.. Was the ...</td>\n",
       "      <td>0</td>\n",
       "      <td>0</td>\n",
       "      <td>0</td>\n",
       "    </tr>\n",
       "    <tr>\n",
       "      <th>2</th>\n",
       "      <td>---3OXpexMp0oAg77xWfYA</td>\n",
       "      <td>lKq4Qsz13FDcAVgp49uukQ</td>\n",
       "      <td>SnXZkRN9Yf060pNTk1HMDg</td>\n",
       "      <td>5</td>\n",
       "      <td>2012-04-07</td>\n",
       "      <td>Pizza here made my night... Good people and gr...</td>\n",
       "      <td>2</td>\n",
       "      <td>0</td>\n",
       "      <td>0</td>\n",
       "    </tr>\n",
       "    <tr>\n",
       "      <th>3</th>\n",
       "      <td>---65iIIGzHj96QnOh89EQ</td>\n",
       "      <td>6nKR80xEGHYf2UxAe_Cu_g</td>\n",
       "      <td>VcmSgvslHAhqWoEn16wjjw</td>\n",
       "      <td>5</td>\n",
       "      <td>2015-09-11</td>\n",
       "      <td>Great brisket sandwich as claimed. Weird that ...</td>\n",
       "      <td>0</td>\n",
       "      <td>0</td>\n",
       "      <td>0</td>\n",
       "    </tr>\n",
       "    <tr>\n",
       "      <th>4</th>\n",
       "      <td>---7WhU-FtzSUOje87Y4uw</td>\n",
       "      <td>Z_mJYg3vi8cPZHa1J4BALw</td>\n",
       "      <td>NKF9v-r0jd1p0JVi9h2T1w</td>\n",
       "      <td>5</td>\n",
       "      <td>2016-01-22</td>\n",
       "      <td>Interesting food, great atmosphere, and great ...</td>\n",
       "      <td>1</td>\n",
       "      <td>1</td>\n",
       "      <td>1</td>\n",
       "    </tr>\n",
       "  </tbody>\n",
       "</table>\n",
       "</div>"
      ],
      "text/plain": [
       "                       id             business_id                 user_id  \\\n",
       "0  ----X0BIDP9tA49U3RvdSQ  Ue6-WhXvI-_1xUIuapl0zQ  gVmUR8rqUFdbSeZbsg6z_w   \n",
       "1  ---0hl58W-sjVTKi5LghGw  Ae4ABFarGMaI5lk1i98A0w  Y6qylbHq8QJmaCRSlKdIog   \n",
       "2  ---3OXpexMp0oAg77xWfYA  lKq4Qsz13FDcAVgp49uukQ  SnXZkRN9Yf060pNTk1HMDg   \n",
       "3  ---65iIIGzHj96QnOh89EQ  6nKR80xEGHYf2UxAe_Cu_g  VcmSgvslHAhqWoEn16wjjw   \n",
       "4  ---7WhU-FtzSUOje87Y4uw  Z_mJYg3vi8cPZHa1J4BALw  NKF9v-r0jd1p0JVi9h2T1w   \n",
       "\n",
       "   stars       date                                               text  \\\n",
       "0      4 2014-02-17  Red, white and bleu salad was super yum and a ...   \n",
       "1      4 2016-07-24  Ate the momos during the momo crawl.. Was the ...   \n",
       "2      5 2012-04-07  Pizza here made my night... Good people and gr...   \n",
       "3      5 2015-09-11  Great brisket sandwich as claimed. Weird that ...   \n",
       "4      5 2016-01-22  Interesting food, great atmosphere, and great ...   \n",
       "\n",
       "   useful  funny  cool  \n",
       "0       1      0     0  \n",
       "1       0      0     0  \n",
       "2       2      0     0  \n",
       "3       0      0     0  \n",
       "4       1      1     1  "
      ]
     },
     "execution_count": 6,
     "metadata": {},
     "output_type": "execute_result"
    }
   ],
   "source": [
    "df_all_reviews = pd.read_sql('select * from review_food;', con=db)\n",
    "df_all_reviews.head()"
   ]
  },
  {
   "cell_type": "code",
   "execution_count": 7,
   "metadata": {},
   "outputs": [
    {
     "name": "stdout",
     "output_type": "stream",
     "text": [
      "loaded dataframe from MySQL. \n",
      "Number of records: 3635685\n",
      "columns in the table:\n",
      " ['id' 'business_id' 'user_id' 'stars' 'date' 'text' 'useful' 'funny'\n",
      " 'cool']\n",
      "number of unique restaurants: 72065\n"
     ]
    }
   ],
   "source": [
    "print('loaded dataframe from MySQL. \\nNumber of records:', len(df_all_reviews))\n",
    "print('columns in the table:\\n', df_all_reviews.columns.values)\n",
    "print('number of unique restaurants:', df_all_reviews['business_id'].nunique())"
   ]
  },
  {
   "cell_type": "markdown",
   "metadata": {},
   "source": [
    "Show an random sample review."
   ]
  },
  {
   "cell_type": "code",
   "execution_count": 8,
   "metadata": {},
   "outputs": [
    {
     "data": {
      "text/plain": [
       "\"This place is awesome! Had lunch there yesterday & so happy it's 5 min away from my house. Great food! If you have been to Laibela it's comparable. Had the veggie/meat combo & it's huge could feed 3! Go & check it out.\""
      ]
     },
     "execution_count": 8,
     "metadata": {},
     "output_type": "execute_result"
    }
   ],
   "source": [
    "df_all_reviews['text'][5730]"
   ]
  },
  {
   "cell_type": "markdown",
   "metadata": {},
   "source": [
    "Distribution of reviews by restaurant and user."
   ]
  },
  {
   "cell_type": "code",
   "execution_count": 9,
   "metadata": {},
   "outputs": [
    {
     "name": "stdout",
     "output_type": "stream",
     "text": [
      "number of unique businesses:  72065\n"
     ]
    },
    {
     "data": {
      "image/png": "[encoded data removed]",
      "text/plain": [
       "<matplotlib.figure.Figure at 0x7f271c3be400>"
      ]
     },
     "metadata": {},
     "output_type": "display_data"
    }
   ],
   "source": [
    "# bins = [0, 5, 10, 100, 250, 500, 1000, 3000]\n",
    "bins = np.logspace(0, 12, num=20, endpoint=True, base=2)\n",
    "review_counts = df_all_reviews['business_id'].value_counts()\n",
    "\n",
    "review_counts.plot(kind='density', \n",
    "                   title='# reviews per business density plot', \n",
    "                   figsize=(10,6), \n",
    "                   logx=True)\n",
    "print('number of unique businesses: ', \n",
    "      df_all_reviews['business_id'].nunique())"
   ]
  },
  {
   "cell_type": "code",
   "execution_count": 10,
   "metadata": {
    "scrolled": false
   },
   "outputs": [
    {
     "name": "stdout",
     "output_type": "stream",
     "text": [
      "number of unique users:  960262\n"
     ]
    },
    {
     "data": {
      "image/png": "[encoded data removed]",
      "text/plain": [
       "<matplotlib.figure.Figure at 0x7f27287f18d0>"
      ]
     },
     "metadata": {},
     "output_type": "display_data"
    }
   ],
   "source": [
    "review_counts = df_all_reviews['user_id'].value_counts()\n",
    "review_counts.plot(kind='density', \n",
    "                   title='# reviews per user density plot', \n",
    "                   figsize=(10,6), \n",
    "                   logx=True)\n",
    "print('number of unique users: ', \n",
    "      df_all_reviews['user_id'].nunique())"
   ]
  },
  {
   "cell_type": "code",
   "execution_count": 11,
   "metadata": {},
   "outputs": [
    {
     "data": {
      "text/plain": [
       "(0, 1]           518121\n",
       "(1, 5]           317199\n",
       "(5, 10]           67726\n",
       "(10, 50]          50354\n",
       "(50, 100]          4675\n",
       "(100, 500]         2135\n",
       "(500, 1000]          46\n",
       "(1000, 5000]          6\n",
       "(5000, 10000]         0\n",
       "Name: bin, dtype: int64"
      ]
     },
     "execution_count": 11,
     "metadata": {},
     "output_type": "execute_result"
    }
   ],
   "source": [
    "review_counts = pd.DataFrame(df_all_reviews.groupby('user_id', as_index=False).size(), \n",
    "                                columns =['num_reviews'])\n",
    "review_counts.reset_index(inplace=True)\n",
    "review_counts['bin'] = pd.cut(review_counts['num_reviews'], \n",
    "                              bins=[0, 1, 5, 10, 50, 100, 500, 1000, 5000, 10000])\n",
    "review_counts['bin'].value_counts()"
   ]
  },
  {
   "cell_type": "markdown",
   "metadata": {},
   "source": [
    "Load restaurant data."
   ]
  },
  {
   "cell_type": "code",
   "execution_count": 12,
   "metadata": {},
   "outputs": [
    {
     "name": "stdout",
     "output_type": "stream",
     "text": [
      "loaded dataframe from MySQL. \n",
      "Number of records: 174567\n"
     ]
    }
   ],
   "source": [
    "df_all_biz = pd.read_sql('select * from business;', con=db)\n",
    "print('loaded dataframe from MySQL. \\nNumber of records:', len(df_all_biz))"
   ]
  },
  {
   "cell_type": "markdown",
   "metadata": {},
   "source": [
    "*** \n",
    "\n",
    "## Feature Generation\n",
    "### Featurization of text reviews using Spacy\n",
    "\n",
    "Proposed Features:\n",
    "* `descriptions`: Descriptive words such as good, tasty, terrible, so adjectives and adverbs are extracted\n",
    "* `bigrams`: consecutive 2-word pairs with one of the words being an adjective or adverb\n",
    "* `word pairs`: adjective/adverb with its parent in the dependency parsing tree, if the parent is a noun/verb"
   ]
  },
  {
   "cell_type": "code",
   "execution_count": 13,
   "metadata": {},
   "outputs": [],
   "source": [
    "def parse_doc(doc, d=True, b=True, w=True):\n",
    "    filter_tags = adj_tags\n",
    "    # adjectives and adverbs\n",
    "    descriptions, bigrams, word_pairs = None, None, None\n",
    "    \n",
    "    if d:\n",
    "        descriptions = [t.lemma_ for t in doc \n",
    "                        if (t.tag_ in filter_tags \n",
    "                            and t.is_alpha\n",
    "                            and not t.is_stop)]\n",
    "    \n",
    "    # bigrams\n",
    "    if b:\n",
    "        l = len(doc)\n",
    "        bigrams = [(t.lemma_ + ' ' +  t.nbor(1).lemma_) for i, t in enumerate(doc) \n",
    "                   if (i < l-1\n",
    "                       and (t.tag_ in filter_tags or t.nbor(1).tag_ in filter_tags)\n",
    "                       and (t.is_alpha and t.nbor(1).is_alpha)\n",
    "                       and not (t.is_stop or t.nbor(1).is_stop)\n",
    "                       and (t.lemma_ != 'be' and t.nbor(1).lemma_ != 'be'))]\n",
    "\n",
    "    # word pairs\n",
    "    if w:\n",
    "        word_pairs = [(t.lemma_ + ' ' + t.head.lemma_) for t in doc\n",
    "                      if (t.tag_ in filter_tags \n",
    "                          and t.head.pos_ in good_heads\n",
    "                          and (t.is_alpha and t.head.is_alpha)\n",
    "                          and not (t.is_stop or t.head.is_stop)\n",
    "                          and t.lemma_ != 'be')]\n",
    "    \n",
    "    return descriptions, bigrams, word_pairs\n",
    "\n",
    "def parse_docs(reviews):\n",
    "    print(\"~~~~~ review feature extraction ~~~~~\")\n",
    "    \n",
    "    n = len(reviews)\n",
    "    print(\"total number of reviews: \", n)\n",
    "    start_time = time.time()\n",
    "    descriptions, bigrams, word_pairs = [], [], []\n",
    "    i = 0\n",
    "    \n",
    "    for doc in nlp.pipe(reviews.astype('unicode').values):\n",
    "        if doc.is_parsed:\n",
    "            d, b, w = parse_doc(doc)\n",
    "            descriptions.append(d)\n",
    "            bigrams.append(b)\n",
    "            word_pairs.append(w)\n",
    "        else:\n",
    "            descriptions.append(None)\n",
    "            bigrams.append(None)\n",
    "            word_pairs.append(None)\n",
    "        \n",
    "        i += 1\n",
    "        if i % 10 == 0:\n",
    "            print('Number of reviews process: {:7d} ({:4.0f}% complete)'.format(\n",
    "                i, i/n*100), end='\\r', flush=True)\n",
    "    \n",
    "    print(\"\")\n",
    "    print(\"--- %s seconds ---\" % (time.time() - start_time))\n",
    "    return descriptions, bigrams, word_pairs"
   ]
  },
  {
   "cell_type": "markdown",
   "metadata": {},
   "source": [
    "Set a filter to only look at restaurants with review counts >= min_reviews. We then sample a subset of restaurants to speed up computation."
   ]
  },
  {
   "cell_type": "code",
   "execution_count": 14,
   "metadata": {},
   "outputs": [
    {
     "name": "stdout",
     "output_type": "stream",
     "text": [
      "dim of sample: (185354, 9)\n"
     ]
    },
    {
     "data": {
      "text/html": [
       "<div>\n",
       "<style scoped>\n",
       "    .dataframe tbody tr th:only-of-type {\n",
       "        vertical-align: middle;\n",
       "    }\n",
       "\n",
       "    .dataframe tbody tr th {\n",
       "        vertical-align: top;\n",
       "    }\n",
       "\n",
       "    .dataframe thead th {\n",
       "        text-align: right;\n",
       "    }\n",
       "</style>\n",
       "<table border=\"1\" class=\"dataframe\">\n",
       "  <thead>\n",
       "    <tr style=\"text-align: right;\">\n",
       "      <th></th>\n",
       "      <th>id</th>\n",
       "      <th>business_id</th>\n",
       "      <th>user_id</th>\n",
       "      <th>stars</th>\n",
       "      <th>date</th>\n",
       "      <th>text</th>\n",
       "      <th>useful</th>\n",
       "      <th>funny</th>\n",
       "      <th>cool</th>\n",
       "    </tr>\n",
       "  </thead>\n",
       "  <tbody>\n",
       "    <tr>\n",
       "      <th>0</th>\n",
       "      <td>--0pfY3vQilgl20btE0fVQ</td>\n",
       "      <td>5BPv_vAnRp5EKdmacqvrLw</td>\n",
       "      <td>wbYWgTS-vzgfVYV_C1qhig</td>\n",
       "      <td>4</td>\n",
       "      <td>2013-05-19</td>\n",
       "      <td>An absolute favourite of mine....I don't under...</td>\n",
       "      <td>5</td>\n",
       "      <td>2</td>\n",
       "      <td>3</td>\n",
       "    </tr>\n",
       "    <tr>\n",
       "      <th>1</th>\n",
       "      <td>-KySikxUI3fyOnou4TQ6sA</td>\n",
       "      <td>5BPv_vAnRp5EKdmacqvrLw</td>\n",
       "      <td>6SGqUw1as8N7AEjAb3mRsA</td>\n",
       "      <td>3</td>\n",
       "      <td>2011-01-12</td>\n",
       "      <td>Located in downtown, so prepare to pay for par...</td>\n",
       "      <td>0</td>\n",
       "      <td>0</td>\n",
       "      <td>0</td>\n",
       "    </tr>\n",
       "    <tr>\n",
       "      <th>2</th>\n",
       "      <td>0U6nFPOrRKww-6MoNRlVxg</td>\n",
       "      <td>5BPv_vAnRp5EKdmacqvrLw</td>\n",
       "      <td>dtanlcid8_m1L49ZK1YPfw</td>\n",
       "      <td>3</td>\n",
       "      <td>2011-12-09</td>\n",
       "      <td>Great little Thai restaurant located near the ...</td>\n",
       "      <td>0</td>\n",
       "      <td>0</td>\n",
       "      <td>0</td>\n",
       "    </tr>\n",
       "    <tr>\n",
       "      <th>3</th>\n",
       "      <td>1yBXNPVYwFGcQaOhnKEAjg</td>\n",
       "      <td>5BPv_vAnRp5EKdmacqvrLw</td>\n",
       "      <td>HFItzRohDHZvcKDrM6ABZg</td>\n",
       "      <td>3</td>\n",
       "      <td>2011-03-08</td>\n",
       "      <td>Went to Pi-Tom's today with the amazing Karl R...</td>\n",
       "      <td>1</td>\n",
       "      <td>1</td>\n",
       "      <td>2</td>\n",
       "    </tr>\n",
       "    <tr>\n",
       "      <th>4</th>\n",
       "      <td>2wDax1QF33FItjTfspF_6g</td>\n",
       "      <td>5BPv_vAnRp5EKdmacqvrLw</td>\n",
       "      <td>XIkPvspzRAoEp7McGt9rdw</td>\n",
       "      <td>3</td>\n",
       "      <td>2011-06-16</td>\n",
       "      <td>2.5 Stars. The highlight of my dining experien...</td>\n",
       "      <td>4</td>\n",
       "      <td>0</td>\n",
       "      <td>3</td>\n",
       "    </tr>\n",
       "  </tbody>\n",
       "</table>\n",
       "</div>"
      ],
      "text/plain": [
       "                       id             business_id                 user_id  \\\n",
       "0  --0pfY3vQilgl20btE0fVQ  5BPv_vAnRp5EKdmacqvrLw  wbYWgTS-vzgfVYV_C1qhig   \n",
       "1  -KySikxUI3fyOnou4TQ6sA  5BPv_vAnRp5EKdmacqvrLw  6SGqUw1as8N7AEjAb3mRsA   \n",
       "2  0U6nFPOrRKww-6MoNRlVxg  5BPv_vAnRp5EKdmacqvrLw  dtanlcid8_m1L49ZK1YPfw   \n",
       "3  1yBXNPVYwFGcQaOhnKEAjg  5BPv_vAnRp5EKdmacqvrLw  HFItzRohDHZvcKDrM6ABZg   \n",
       "4  2wDax1QF33FItjTfspF_6g  5BPv_vAnRp5EKdmacqvrLw  XIkPvspzRAoEp7McGt9rdw   \n",
       "\n",
       "   stars       date                                               text  \\\n",
       "0      4 2013-05-19  An absolute favourite of mine....I don't under...   \n",
       "1      3 2011-01-12  Located in downtown, so prepare to pay for par...   \n",
       "2      3 2011-12-09  Great little Thai restaurant located near the ...   \n",
       "3      3 2011-03-08  Went to Pi-Tom's today with the amazing Karl R...   \n",
       "4      3 2011-06-16  2.5 Stars. The highlight of my dining experien...   \n",
       "\n",
       "   useful  funny  cool  \n",
       "0       5      2     3  \n",
       "1       0      0     0  \n",
       "2       0      0     0  \n",
       "3       1      1     2  \n",
       "4       4      0     3  "
      ]
     },
     "execution_count": 14,
     "metadata": {},
     "output_type": "execute_result"
    }
   ],
   "source": [
    "min_reviews = 50\n",
    "reviews_per_biz = df_all_reviews['business_id'].value_counts()\n",
    "f = reviews_per_biz > min_reviews \n",
    "\n",
    "# get a large sample\n",
    "k = 1000\n",
    "biz_ids = np.array(reviews_per_biz[f].index) \n",
    "idx = np.random.permutation(f.sum())[:k]\n",
    "sample_biz = pd.DataFrame(biz_ids[idx], columns =['business_id'])\n",
    "assert sample_biz.shape[0] == k\n",
    "\n",
    "df_sample = df_all_reviews.merge(sample_biz, on='business_id')\n",
    "\n",
    "# print out some information\n",
    "print('dim of sample:', df_sample.shape)\n",
    "df_sample.head()"
   ]
  },
  {
   "cell_type": "markdown",
   "metadata": {},
   "source": [
    "Featurize the sample and save the features to disk for future retrieval."
   ]
  },
  {
   "cell_type": "code",
   "execution_count": 15,
   "metadata": {},
   "outputs": [],
   "source": [
    "# # featurization\n",
    "# d, b, w = parse_docs(df_sample['text'])\n",
    "# df_sample['descriptions'] = d\n",
    "# df_sample['bigrams'] = b\n",
    "# df_sample['word_pairs'] = w\n",
    "\n",
    "# # save sample to disk for future retrieval \n",
    "# filename = '1k_small.pkl'\n",
    "# df_sample.to_pickle(filename)"
   ]
  },
  {
   "cell_type": "code",
   "execution_count": 16,
   "metadata": {},
   "outputs": [
    {
     "data": {
      "text/html": [
       "<div>\n",
       "<style scoped>\n",
       "    .dataframe tbody tr th:only-of-type {\n",
       "        vertical-align: middle;\n",
       "    }\n",
       "\n",
       "    .dataframe tbody tr th {\n",
       "        vertical-align: top;\n",
       "    }\n",
       "\n",
       "    .dataframe thead th {\n",
       "        text-align: right;\n",
       "    }\n",
       "</style>\n",
       "<table border=\"1\" class=\"dataframe\">\n",
       "  <thead>\n",
       "    <tr style=\"text-align: right;\">\n",
       "      <th></th>\n",
       "      <th>id</th>\n",
       "      <th>business_id</th>\n",
       "      <th>user_id</th>\n",
       "      <th>stars</th>\n",
       "      <th>date</th>\n",
       "      <th>text</th>\n",
       "      <th>useful</th>\n",
       "      <th>funny</th>\n",
       "      <th>cool</th>\n",
       "      <th>descriptions</th>\n",
       "      <th>bigrams</th>\n",
       "      <th>word_pairs</th>\n",
       "    </tr>\n",
       "  </thead>\n",
       "  <tbody>\n",
       "    <tr>\n",
       "      <th>0</th>\n",
       "      <td>---94vtJ_5o_nikEs6hUjg</td>\n",
       "      <td>R1PQEK6qvrZVC9qcWfKvDA</td>\n",
       "      <td>c2MQ_LPuvtiiKFR_-OY9pg</td>\n",
       "      <td>5</td>\n",
       "      <td>2014-09-17</td>\n",
       "      <td>One of my absolute favorite restaurants! I usu...</td>\n",
       "      <td>1</td>\n",
       "      <td>0</td>\n",
       "      <td>0</td>\n",
       "      <td>[absolute, favorite, usually, finally, privile...</td>\n",
       "      <td>[absolute favorite, favorite restaurant, final...</td>\n",
       "      <td>[absolute restaurant, favorite restaurant, fin...</td>\n",
       "    </tr>\n",
       "    <tr>\n",
       "      <th>1</th>\n",
       "      <td>-0kMtT3KIXeBDNyhYzw0fA</td>\n",
       "      <td>R1PQEK6qvrZVC9qcWfKvDA</td>\n",
       "      <td>Y0UAHzk3dmfmN05h3VJuKA</td>\n",
       "      <td>5</td>\n",
       "      <td>2015-12-23</td>\n",
       "      <td>Came in here to try something new.. Definetly ...</td>\n",
       "      <td>0</td>\n",
       "      <td>1</td>\n",
       "      <td>0</td>\n",
       "      <td>[new, definetly, impressed, instead, amazing, ...</td>\n",
       "      <td>[definetly impressed]</td>\n",
       "      <td>[impressed came, instead come]</td>\n",
       "    </tr>\n",
       "    <tr>\n",
       "      <th>2</th>\n",
       "      <td>0bNQt1SuA3JLF52sghALqg</td>\n",
       "      <td>R1PQEK6qvrZVC9qcWfKvDA</td>\n",
       "      <td>1Jj7LukYTA7oisUSC1o_fg</td>\n",
       "      <td>4</td>\n",
       "      <td>2015-05-11</td>\n",
       "      <td>Decided to check out Braddah's today on accoun...</td>\n",
       "      <td>1</td>\n",
       "      <td>1</td>\n",
       "      <td>1</td>\n",
       "      <td>[good, exceptional, awesome, ok, forgettable, ...</td>\n",
       "      <td>[savory separate]</td>\n",
       "      <td>[savory like, little flavor]</td>\n",
       "    </tr>\n",
       "    <tr>\n",
       "      <th>3</th>\n",
       "      <td>0fubQ5SDueaI5OqK0QCRZA</td>\n",
       "      <td>R1PQEK6qvrZVC9qcWfKvDA</td>\n",
       "      <td>Hqts8p_V5HLQeO5Q3czkJQ</td>\n",
       "      <td>3</td>\n",
       "      <td>2014-10-22</td>\n",
       "      <td>Not your regular Hawaiian BBQ joint; don't com...</td>\n",
       "      <td>0</td>\n",
       "      <td>0</td>\n",
       "      <td>0</td>\n",
       "      <td>[regular, hawaiian, esque, flavorful, disappoi...</td>\n",
       "      <td>[regular hawaiian, hawaiian bbq, esque assembl...</td>\n",
       "      <td>[regular joint, hawaiian joint, esque line, or...</td>\n",
       "    </tr>\n",
       "    <tr>\n",
       "      <th>4</th>\n",
       "      <td>0qOU0aECP-wQxxjlMQ4ODw</td>\n",
       "      <td>R1PQEK6qvrZVC9qcWfKvDA</td>\n",
       "      <td>8VEBLmuQbBm67ylC47tTwQ</td>\n",
       "      <td>5</td>\n",
       "      <td>2015-06-27</td>\n",
       "      <td>Me and the family ate here twice during a 5 da...</td>\n",
       "      <td>1</td>\n",
       "      <td>0</td>\n",
       "      <td>0</td>\n",
       "      <td>[twice, tasty, soft, great, exactly, clear, good]</td>\n",
       "      <td>[soft tacos, clear winner]</td>\n",
       "      <td>[twice eat, soft tacos, exactly taste, clear w...</td>\n",
       "    </tr>\n",
       "  </tbody>\n",
       "</table>\n",
       "</div>"
      ],
      "text/plain": [
       "                       id             business_id                 user_id  \\\n",
       "0  ---94vtJ_5o_nikEs6hUjg  R1PQEK6qvrZVC9qcWfKvDA  c2MQ_LPuvtiiKFR_-OY9pg   \n",
       "1  -0kMtT3KIXeBDNyhYzw0fA  R1PQEK6qvrZVC9qcWfKvDA  Y0UAHzk3dmfmN05h3VJuKA   \n",
       "2  0bNQt1SuA3JLF52sghALqg  R1PQEK6qvrZVC9qcWfKvDA  1Jj7LukYTA7oisUSC1o_fg   \n",
       "3  0fubQ5SDueaI5OqK0QCRZA  R1PQEK6qvrZVC9qcWfKvDA  Hqts8p_V5HLQeO5Q3czkJQ   \n",
       "4  0qOU0aECP-wQxxjlMQ4ODw  R1PQEK6qvrZVC9qcWfKvDA  8VEBLmuQbBm67ylC47tTwQ   \n",
       "\n",
       "   stars       date                                               text  \\\n",
       "0      5 2014-09-17  One of my absolute favorite restaurants! I usu...   \n",
       "1      5 2015-12-23  Came in here to try something new.. Definetly ...   \n",
       "2      4 2015-05-11  Decided to check out Braddah's today on accoun...   \n",
       "3      3 2014-10-22  Not your regular Hawaiian BBQ joint; don't com...   \n",
       "4      5 2015-06-27  Me and the family ate here twice during a 5 da...   \n",
       "\n",
       "   useful  funny  cool                                       descriptions  \\\n",
       "0       1      0     0  [absolute, favorite, usually, finally, privile...   \n",
       "1       0      1     0  [new, definetly, impressed, instead, amazing, ...   \n",
       "2       1      1     1  [good, exceptional, awesome, ok, forgettable, ...   \n",
       "3       0      0     0  [regular, hawaiian, esque, flavorful, disappoi...   \n",
       "4       1      0     0  [twice, tasty, soft, great, exactly, clear, good]   \n",
       "\n",
       "                                             bigrams  \\\n",
       "0  [absolute favorite, favorite restaurant, final...   \n",
       "1                              [definetly impressed]   \n",
       "2                                  [savory separate]   \n",
       "3  [regular hawaiian, hawaiian bbq, esque assembl...   \n",
       "4                         [soft tacos, clear winner]   \n",
       "\n",
       "                                          word_pairs  \n",
       "0  [absolute restaurant, favorite restaurant, fin...  \n",
       "1                     [impressed came, instead come]  \n",
       "2                       [savory like, little flavor]  \n",
       "3  [regular joint, hawaiian joint, esque line, or...  \n",
       "4  [twice eat, soft tacos, exactly taste, clear w...  "
      ]
     },
     "execution_count": 16,
     "metadata": {},
     "output_type": "execute_result"
    }
   ],
   "source": [
    "filename = '10k_medium.pkl'\n",
    "df_sample = pd.read_pickle(filename)\n",
    "df_sample.head()"
   ]
  },
  {
   "cell_type": "markdown",
   "metadata": {},
   "source": [
    "Take a look at the features."
   ]
  },
  {
   "cell_type": "code",
   "execution_count": 17,
   "metadata": {},
   "outputs": [
    {
     "data": {
      "text/plain": [
       "[('good food', 21368),\n",
       " ('highly recommend', 18860),\n",
       " ('great place', 18503),\n",
       " ('great food', 15397),\n",
       " ('great service', 15178),\n",
       " ('good place', 13846),\n",
       " ('good service', 10894),\n",
       " ('happy hour', 10482),\n",
       " ('good thing', 10025),\n",
       " ('definitely come', 8856)]"
      ]
     },
     "execution_count": 17,
     "metadata": {},
     "output_type": "execute_result"
    }
   ],
   "source": [
    "# take a look at all the features\n",
    "feature_col = 'word_pairs'\n",
    "feats = df_sample[feature_col].values\n",
    "feats_flattened = [f for feat in feats for f in feat]\n",
    "c = Counter(feats_flattened)\n",
    "c.most_common(10)"
   ]
  },
  {
   "cell_type": "markdown",
   "metadata": {},
   "source": [
    "### Count vectorization\n",
    "Transform word list into columns of words/bigrams using count vectorization."
   ]
  },
  {
   "cell_type": "code",
   "execution_count": 18,
   "metadata": {},
   "outputs": [],
   "source": [
    "def standardize(X,Y):\n",
    "    ss_x = StandardScaler()\n",
    "    ss_y = StandardScaler()\n",
    "    \n",
    "    X = ss_x.fit_transform(X)\n",
    "    Y = ss_y.fit_transform(Y)\n",
    "    \n",
    "    return X,Y\n",
    "\n",
    "def agg_feature_by_biz(df, biz_col, feature_col):\n",
    "    print(\"~~~~~ aggregating feature: {} ~~~~~\".format(feature_col))\n",
    "    start_time = time.time()\n",
    "    \n",
    "    df_sample_reviews = df.groupby(biz_col, as_index=False)[feature_col].agg(sum)\n",
    "\n",
    "    print(\"--- %s seconds ---\" % (time.time() - start_time))\n",
    "    print()\n",
    "    return df_sample_reviews\n",
    "\n",
    "\n",
    "def word_list_vectorizer(reviews, params):\n",
    "    def dummy_tokenizer(sentence):\n",
    "        return sentence\n",
    "\n",
    "    def dummy_preprocess(sentence):\n",
    "        return sentence\n",
    "\n",
    "    vec = CountVectorizer(tokenizer=dummy_tokenizer, \n",
    "                          preprocessor=dummy_preprocess,\n",
    "                          **params)\n",
    "\n",
    "    count_matrix = vec.fit_transform(reviews).toarray()\n",
    "    id_to_word = {vec.vocabulary_[word]: word for word in vec.vocabulary_}\n",
    "    return count_matrix, id_to_word\n",
    "\n",
    "\n",
    "def text_to_feature(df, biz_col, feature_col, params):\n",
    "    df_reviews = agg_feature_by_biz(df, biz_col, feature_col)\n",
    "    reviews = df_reviews[feature_col]\n",
    "    \n",
    "    count, feature_dict = word_list_vectorizer(reviews, params)\n",
    "    total_count = count.sum(axis = 1)\n",
    "    # handle division by 0\n",
    "    total_count[np.where(total_count == 0)[0]] = 1 \n",
    "    # raw count -> frequency\n",
    "    count = count / total_count[:, np.newaxis] \n",
    "    \n",
    "    df_count = pd.DataFrame(count)\n",
    "    df_count.columns = [feature_dict[i] for i in range(len(feature_dict))]\n",
    "    df_count[biz_col] = df_reviews[biz_col]\n",
    "    return df_count\n",
    "\n",
    "\n",
    "def move_biz_col_forward(df, biz_col = 'business_id'):\n",
    "    cols = list(df.columns)\n",
    "    biz_col_idx = cols.index(biz_col)\n",
    "    cols = [cols[biz_col_idx]] + cols[:biz_col_idx] + cols[biz_col_idx+1:]\n",
    "    df = df[cols]\n",
    "    return df"
   ]
  },
  {
   "cell_type": "code",
   "execution_count": 19,
   "metadata": {},
   "outputs": [
    {
     "name": "stdout",
     "output_type": "stream",
     "text": [
      "~~~~~ aggregating feature: descriptions ~~~~~\n",
      "--- 42.33356523513794 seconds ---\n",
      "\n",
      "~~~~~ aggregating feature: word_pairs ~~~~~\n",
      "--- 40.26867413520813 seconds ---\n",
      "\n"
     ]
    }
   ],
   "source": [
    "params = {'min_df': 10, \n",
    "          'max_df': 0.5,\n",
    "          'max_features': 100}\n",
    "\n",
    "biz_col = 'business_id'\n",
    "feature_col = 'descriptions'\n",
    "df_descriptions = text_to_feature(df_sample, biz_col, feature_col, params)\n",
    "\n",
    "feature_col = 'word_pairs'\n",
    "df_wordpairs = text_to_feature(df_sample, biz_col, feature_col, params)"
   ]
  },
  {
   "cell_type": "markdown",
   "metadata": {},
   "source": [
    "***\n",
    "## Dimensionality Reduction\n",
    "\n",
    "Pick one or more of the text features to use for our dimensionality reduction. Below `word pairs` is used"
   ]
  },
  {
   "cell_type": "code",
   "execution_count": 20,
   "metadata": {},
   "outputs": [],
   "source": [
    "# create feature dataframe by combining all text features\n",
    "# df_features = df_descriptions.merge(df_wordpairs, on = biz_col)\n",
    "df_features = df_wordpairs\n",
    "\n",
    "# # rearrange column names so business_id is the first col\n",
    "# cols = list(df_features.columns)\n",
    "# biz_col_idx = cols.index(biz_col)\n",
    "# cols = [cols[biz_col_idx]] + cols[:biz_col_idx] + cols[biz_col_idx+1:]\n",
    "# df_features = df_features[cols]\n",
    "df_features = move_biz_col_forward(df_features)\n",
    "\n",
    "# creating feature lookup by column index\n",
    "feature_dict = {i:feat for i, feat in enumerate(list(df_features.columns[1:]))}"
   ]
  },
  {
   "cell_type": "code",
   "execution_count": 21,
   "metadata": {},
   "outputs": [
    {
     "data": {
      "text/html": [
       "<div>\n",
       "<style scoped>\n",
       "    .dataframe tbody tr th:only-of-type {\n",
       "        vertical-align: middle;\n",
       "    }\n",
       "\n",
       "    .dataframe tbody tr th {\n",
       "        vertical-align: top;\n",
       "    }\n",
       "\n",
       "    .dataframe thead th {\n",
       "        text-align: right;\n",
       "    }\n",
       "</style>\n",
       "<table border=\"1\" class=\"dataframe\">\n",
       "  <thead>\n",
       "    <tr style=\"text-align: right;\">\n",
       "      <th></th>\n",
       "      <th>business_id</th>\n",
       "      <th>absolutely love</th>\n",
       "      <th>amazing food</th>\n",
       "      <th>authentic food</th>\n",
       "      <th>away blow</th>\n",
       "      <th>away stay</th>\n",
       "      <th>away walk</th>\n",
       "      <th>bad experience</th>\n",
       "      <th>bad service</th>\n",
       "      <th>big deal</th>\n",
       "      <th>...</th>\n",
       "      <th>perfectly cook</th>\n",
       "      <th>poor service</th>\n",
       "      <th>prime rib</th>\n",
       "      <th>quickly come</th>\n",
       "      <th>reasonable price</th>\n",
       "      <th>reasonably price</th>\n",
       "      <th>second time</th>\n",
       "      <th>short rib</th>\n",
       "      <th>small portion</th>\n",
       "      <th>sweet fry</th>\n",
       "    </tr>\n",
       "  </thead>\n",
       "  <tbody>\n",
       "    <tr>\n",
       "      <th>0</th>\n",
       "      <td>--6MefnULPED_I942VcFNA</td>\n",
       "      <td>0.000000</td>\n",
       "      <td>0.000000</td>\n",
       "      <td>0.0</td>\n",
       "      <td>0.000000</td>\n",
       "      <td>0.000000</td>\n",
       "      <td>0.043478</td>\n",
       "      <td>0.000000</td>\n",
       "      <td>0.000000</td>\n",
       "      <td>0.000000</td>\n",
       "      <td>...</td>\n",
       "      <td>0.000000</td>\n",
       "      <td>0.000000</td>\n",
       "      <td>0.000000</td>\n",
       "      <td>0.043478</td>\n",
       "      <td>0.000000</td>\n",
       "      <td>0.000000</td>\n",
       "      <td>0.000000</td>\n",
       "      <td>0.000000</td>\n",
       "      <td>0.000000</td>\n",
       "      <td>0.0</td>\n",
       "    </tr>\n",
       "    <tr>\n",
       "      <th>1</th>\n",
       "      <td>--9e1ONYQuAa-CB_Rrw7Tw</td>\n",
       "      <td>0.005686</td>\n",
       "      <td>0.009748</td>\n",
       "      <td>0.0</td>\n",
       "      <td>0.012998</td>\n",
       "      <td>0.004062</td>\n",
       "      <td>0.006499</td>\n",
       "      <td>0.004062</td>\n",
       "      <td>0.002437</td>\n",
       "      <td>0.004062</td>\n",
       "      <td>...</td>\n",
       "      <td>0.090983</td>\n",
       "      <td>0.003249</td>\n",
       "      <td>0.006499</td>\n",
       "      <td>0.005686</td>\n",
       "      <td>0.002437</td>\n",
       "      <td>0.010561</td>\n",
       "      <td>0.018684</td>\n",
       "      <td>0.003249</td>\n",
       "      <td>0.003249</td>\n",
       "      <td>0.0</td>\n",
       "    </tr>\n",
       "    <tr>\n",
       "      <th>2</th>\n",
       "      <td>--DaPTJW3-tB1vP-PfdTEg</td>\n",
       "      <td>0.000000</td>\n",
       "      <td>0.000000</td>\n",
       "      <td>0.0</td>\n",
       "      <td>0.000000</td>\n",
       "      <td>0.000000</td>\n",
       "      <td>0.000000</td>\n",
       "      <td>0.000000</td>\n",
       "      <td>0.000000</td>\n",
       "      <td>0.000000</td>\n",
       "      <td>...</td>\n",
       "      <td>0.000000</td>\n",
       "      <td>0.030303</td>\n",
       "      <td>0.000000</td>\n",
       "      <td>0.060606</td>\n",
       "      <td>0.000000</td>\n",
       "      <td>0.060606</td>\n",
       "      <td>0.000000</td>\n",
       "      <td>0.000000</td>\n",
       "      <td>0.000000</td>\n",
       "      <td>0.0</td>\n",
       "    </tr>\n",
       "    <tr>\n",
       "      <th>3</th>\n",
       "      <td>--KCl2FvVQpvjzmZSPyviA</td>\n",
       "      <td>0.000000</td>\n",
       "      <td>0.000000</td>\n",
       "      <td>0.0</td>\n",
       "      <td>0.000000</td>\n",
       "      <td>0.142857</td>\n",
       "      <td>0.000000</td>\n",
       "      <td>0.000000</td>\n",
       "      <td>0.000000</td>\n",
       "      <td>0.000000</td>\n",
       "      <td>...</td>\n",
       "      <td>0.000000</td>\n",
       "      <td>0.000000</td>\n",
       "      <td>0.000000</td>\n",
       "      <td>0.000000</td>\n",
       "      <td>0.000000</td>\n",
       "      <td>0.000000</td>\n",
       "      <td>0.142857</td>\n",
       "      <td>0.000000</td>\n",
       "      <td>0.000000</td>\n",
       "      <td>0.0</td>\n",
       "    </tr>\n",
       "    <tr>\n",
       "      <th>4</th>\n",
       "      <td>--Ni3oJ4VOqfOEu7Sj2Vzg</td>\n",
       "      <td>0.000000</td>\n",
       "      <td>0.000000</td>\n",
       "      <td>0.0</td>\n",
       "      <td>0.000000</td>\n",
       "      <td>0.000000</td>\n",
       "      <td>0.142857</td>\n",
       "      <td>0.000000</td>\n",
       "      <td>0.000000</td>\n",
       "      <td>0.000000</td>\n",
       "      <td>...</td>\n",
       "      <td>0.000000</td>\n",
       "      <td>0.000000</td>\n",
       "      <td>0.000000</td>\n",
       "      <td>0.000000</td>\n",
       "      <td>0.000000</td>\n",
       "      <td>0.000000</td>\n",
       "      <td>0.000000</td>\n",
       "      <td>0.000000</td>\n",
       "      <td>0.000000</td>\n",
       "      <td>0.0</td>\n",
       "    </tr>\n",
       "  </tbody>\n",
       "</table>\n",
       "<p>5 rows × 101 columns</p>\n",
       "</div>"
      ],
      "text/plain": [
       "              business_id  absolutely love  amazing food  authentic food  \\\n",
       "0  --6MefnULPED_I942VcFNA         0.000000      0.000000             0.0   \n",
       "1  --9e1ONYQuAa-CB_Rrw7Tw         0.005686      0.009748             0.0   \n",
       "2  --DaPTJW3-tB1vP-PfdTEg         0.000000      0.000000             0.0   \n",
       "3  --KCl2FvVQpvjzmZSPyviA         0.000000      0.000000             0.0   \n",
       "4  --Ni3oJ4VOqfOEu7Sj2Vzg         0.000000      0.000000             0.0   \n",
       "\n",
       "   away blow  away stay  away walk  bad experience  bad service  big deal  \\\n",
       "0   0.000000   0.000000   0.043478        0.000000     0.000000  0.000000   \n",
       "1   0.012998   0.004062   0.006499        0.004062     0.002437  0.004062   \n",
       "2   0.000000   0.000000   0.000000        0.000000     0.000000  0.000000   \n",
       "3   0.000000   0.142857   0.000000        0.000000     0.000000  0.000000   \n",
       "4   0.000000   0.000000   0.142857        0.000000     0.000000  0.000000   \n",
       "\n",
       "     ...      perfectly cook  poor service  prime rib  quickly come  \\\n",
       "0    ...            0.000000      0.000000   0.000000      0.043478   \n",
       "1    ...            0.090983      0.003249   0.006499      0.005686   \n",
       "2    ...            0.000000      0.030303   0.000000      0.060606   \n",
       "3    ...            0.000000      0.000000   0.000000      0.000000   \n",
       "4    ...            0.000000      0.000000   0.000000      0.000000   \n",
       "\n",
       "   reasonable price  reasonably price  second time  short rib  small portion  \\\n",
       "0          0.000000          0.000000     0.000000   0.000000       0.000000   \n",
       "1          0.002437          0.010561     0.018684   0.003249       0.003249   \n",
       "2          0.000000          0.060606     0.000000   0.000000       0.000000   \n",
       "3          0.000000          0.000000     0.142857   0.000000       0.000000   \n",
       "4          0.000000          0.000000     0.000000   0.000000       0.000000   \n",
       "\n",
       "   sweet fry  \n",
       "0        0.0  \n",
       "1        0.0  \n",
       "2        0.0  \n",
       "3        0.0  \n",
       "4        0.0  \n",
       "\n",
       "[5 rows x 101 columns]"
      ]
     },
     "execution_count": 21,
     "metadata": {},
     "output_type": "execute_result"
    }
   ],
   "source": [
    "df_features.head()"
   ]
  },
  {
   "cell_type": "markdown",
   "metadata": {},
   "source": [
    "Prepare X and y for PCA and CCA."
   ]
  },
  {
   "cell_type": "code",
   "execution_count": 22,
   "metadata": {},
   "outputs": [
    {
     "name": "stdout",
     "output_type": "stream",
     "text": [
      "dim of features: (10000, 100)\n",
      "dim of output (rating): (10000, 1)\n",
      "percentage of restaurants with non-zero features:97.6%\n"
     ]
    }
   ],
   "source": [
    "X = df_features.iloc[:, 1:].as_matrix()\n",
    "\n",
    "ratings_data = df_features.merge(df_all_biz, left_on='business_id', right_on='id')\n",
    "y = ratings_data['stars'].values\n",
    "if len(y.shape) == 1: y = np.reshape(y, (-1, 1))\n",
    "\n",
    "# feature scaling and standardization\n",
    "# X, y = standardize(X,y)\n",
    "\n",
    "print('dim of features:', X.shape)\n",
    "print('dim of output (rating):', y.shape)\n",
    "print('percentage of restaurants with non-zero features:{:.1f}%'.format(\n",
    "    X.sum(axis=1).sum()/X.shape[0]*100))"
   ]
  },
  {
   "cell_type": "markdown",
   "metadata": {},
   "source": [
    "### PCA"
   ]
  },
  {
   "cell_type": "code",
   "execution_count": 23,
   "metadata": {},
   "outputs": [
    {
     "name": "stdout",
     "output_type": "stream",
     "text": [
      "total variance explained: 0.17730513206715498\n"
     ]
    }
   ],
   "source": [
    "pca = PCA(n_components=5)\n",
    "pca.fit(X)\n",
    "\n",
    "print(\"total variance explained:\", pca.explained_variance_ratio_.sum())"
   ]
  },
  {
   "cell_type": "markdown",
   "metadata": {},
   "source": [
    "5 principal components."
   ]
  },
  {
   "cell_type": "code",
   "execution_count": 24,
   "metadata": {},
   "outputs": [
    {
     "name": "stdout",
     "output_type": "stream",
     "text": [
      "No. 1 principal component\n",
      "Top 10 features with the highest abs weights: \n",
      "['fast food: 0.67', 'great place: -0.66', 'good place: -0.17', 'highly recommend: -0.12', 'friendly staff: -0.11', 'great selection: -0.08', 'bad experience: 0.07', 'good food: 0.07', 'bad service: 0.07', 'good service: 0.06']\n",
      "\n",
      "No. 2 principal component\n",
      "Top 10 features with the highest abs weights: \n",
      "['great place: 0.68', 'fast food: 0.63', 'highly recommend: -0.30', 'good food: -0.12', 'great service: -0.08', 'good pizza: -0.06', 'good taste: -0.05', 'chinese food: -0.05', 'definitely recommend: -0.04', 'great food: -0.04']\n",
      "\n",
      "No. 3 principal component\n",
      "Top 10 features with the highest abs weights: \n",
      "['good place: 0.85', 'highly recommend: -0.44', 'great service: -0.20', 'great place: -0.14', 'friendly staff: -0.07', 'good pizza: 0.06', 'good food: 0.06', 'forward look: -0.05', 'fast food: -0.04', 'great selection: -0.04']\n",
      "\n",
      "No. 4 principal component\n",
      "Top 10 features with the highest abs weights: \n",
      "['highly recommend: 0.77', 'great service: -0.36', 'good place: 0.34', 'fast food: 0.29', 'friendly staff: -0.12', 'good service: -0.12', 'good food: -0.11', 'good taste: 0.09', 'bad experience: -0.07', 'great food: -0.06']\n",
      "\n",
      "No. 5 principal component\n",
      "Top 10 features with the highest abs weights: \n",
      "['good food: 0.65', 'friendly staff: -0.53', 'great service: -0.36', 'good place: -0.18', 'great place: 0.16', 'chinese food: 0.14', 'mexican food: 0.10', 'fried rice: 0.10', 'great selection: -0.09', 'great food: 0.09']\n",
      "\n"
     ]
    }
   ],
   "source": [
    "max_ids = np.argsort(abs(pca.components_), axis=1)[:, -10:][:, ::-1]\n",
    "\n",
    "for i, pci in enumerate(max_ids):\n",
    "    print(\"No. {} principal component\".format(i + 1))\n",
    "    print(\"Top {} features with the highest abs weights: \".format(10))\n",
    "    print(['{}: {:.2f}'.format(feature_dict[j], pca.components_[i,j]) for j in pci ])\n",
    "    print()"
   ]
  },
  {
   "cell_type": "markdown",
   "metadata": {},
   "source": [
    "Numerical feature importance for the 1st principal component."
   ]
  },
  {
   "cell_type": "code",
   "execution_count": 25,
   "metadata": {},
   "outputs": [
    {
     "data": {
      "text/plain": [
       "<matplotlib.collections.PathCollection at 0x7f26d0035668>"
      ]
     },
     "execution_count": 25,
     "metadata": {},
     "output_type": "execute_result"
    },
    {
     "data": {
      "image/png": "[encoded data removed]",
      "text/plain": [
       "<matplotlib.figure.Figure at 0x7f26cfef9588>"
      ]
     },
     "metadata": {},
     "output_type": "display_data"
    }
   ],
   "source": [
    "proj_1d = abs(pca.components_[0])\n",
    "idx = np.argsort(proj_1d)[::-1]\n",
    "plt.figure(figsize=(8,5))\n",
    "plt.scatter(range(len(idx)), proj_1d[idx])"
   ]
  },
  {
   "cell_type": "markdown",
   "metadata": {},
   "source": [
    "2D projection visualization."
   ]
  },
  {
   "cell_type": "code",
   "execution_count": 26,
   "metadata": {},
   "outputs": [],
   "source": [
    "# Plot restaurants by first two PCA dimensions\n",
    "pca = PCA(n_components=2)\n",
    "transformed_features = pca.fit_transform(X)"
   ]
  },
  {
   "cell_type": "code",
   "execution_count": 27,
   "metadata": {},
   "outputs": [
    {
     "data": {
      "image/png": "[encoded data removed]",
      "text/plain": [
       "<matplotlib.figure.Figure at 0x7f26cfeb8ac8>"
      ]
     },
     "metadata": {},
     "output_type": "display_data"
    }
   ],
   "source": [
    "plt.figure(figsize=(10,6))\n",
    "plt.scatter(transformed_features[:, 0],     # Select first column\n",
    "            transformed_features[:, 1],     # Select second column\n",
    "            c=y.flatten(), alpha=0.6)\n",
    "plt.colorbar(label='restaurant rating')\n",
    "plt.title('Restaurant ratings after PCA')\n",
    "plt.show()"
   ]
  },
  {
   "cell_type": "markdown",
   "metadata": {},
   "source": [
    "### CCA"
   ]
  },
  {
   "cell_type": "code",
   "execution_count": 28,
   "metadata": {},
   "outputs": [],
   "source": [
    "# code adapted from HW 6\n",
    "def compute_covariance_matrix(X,Y):    \n",
    "    N = len(X)\n",
    "    X = np.array(X)\n",
    "    Y = np.array(Y)\n",
    "    C_XY = X.T @ Y\n",
    "    \n",
    "    return C_XY/float(N)\n",
    "\n",
    "\n",
    "def get_CCA_components(X, Y, k):\n",
    "    C_XY = compute_covariance_matrix(X,y)\n",
    "    C_XX = compute_covariance_matrix(X,X)\n",
    "    C_YY = compute_covariance_matrix(y,y)\n",
    "\n",
    "    dim_x = C_XX.shape[0]\n",
    "    dim_y = C_YY.shape[0]\n",
    "\n",
    "    white_cov = inv(sqrtm(C_XX + 1e-5*np.eye(dim_x)))\n",
    "    B = inv(sqrtm(C_YY + 1e-5*np.eye(dim_y)))\n",
    "    C = np.matmul(white_cov, np.matmul(C_XY, B))\n",
    "    u,s,d = svd(C)\n",
    "\n",
    "    proj = np.matmul(u[:,0:k].T, white_cov) \n",
    "    return proj"
   ]
  },
  {
   "cell_type": "markdown",
   "metadata": {},
   "source": [
    "Top 5 projection vectors."
   ]
  },
  {
   "cell_type": "code",
   "execution_count": 29,
   "metadata": {},
   "outputs": [
    {
     "name": "stdout",
     "output_type": "stream",
     "text": [
      "Top 0 principal component\n",
      "Top words with the highest weights: \n",
      "['favorite restaurant:1.62', 'highly recommend:1.58', 'little place:1.49', 'excellent food:1.48', 'delicious food:1.44', 'definitely go:1.43', 'definitely come:1.41', 'authentic food:1.36', 'great atmosphere:1.35', 'great flavor:1.35']\n",
      "\n",
      "Top 1 principal component\n",
      "Top words with the highest weights: \n",
      "['amazing food:51.35', 'absolutely love:-2.36', 'authentic food:-0.98', 'good food:-0.95', 'great food:-0.84', 'delicious food:-0.80', 'perfectly cook:-0.70', 'highly recommend:-0.69', 'excellent food:-0.63', 'great experience:-0.59']\n",
      "\n",
      "Top 2 principal component\n",
      "Top words with the highest weights: \n",
      "['authentic food:43.19', 'mexican food:-3.19', 'absolutely love:-2.20', 'good restaurant:-1.53', 'delicious food:-1.47', 'good food:-1.28', 'favorite restaurant:-1.21', 'chinese food:-1.15', 'chinese restaurant:-1.09', 'mexican restaurant:-1.06']\n",
      "\n",
      "Top 3 principal component\n",
      "Top words with the highest weights: \n",
      "['away blow:40.74', 'absolutely love:-2.35', 'huge fan:-1.12', 'fresh ingredient:-0.77', 'perfectly cook:-0.74', 'good value:-0.70', 'small portion:-0.66', 'great flavor:-0.61', 'good thing:-0.54', 'highly recommend:-0.50']\n",
      "\n",
      "Top 4 principal component\n",
      "Top words with the highest weights: \n",
      "['away stay:29.89', 'absolutely love:-1.77', 'authentic food:-0.90', 'long wait:-0.72', 'poor service:-0.70', 'finally get:-0.66', 'bad experience:-0.66', 'good deal:-0.65', 'reasonable price:-0.52', 'good look:-0.50']\n",
      "\n"
     ]
    }
   ],
   "source": [
    "if len(y.shape) == 1: y = np.reshape(y, (-1, 1))\n",
    "proj = get_CCA_components(X, y, 5)\n",
    "\n",
    "max_ids = np.argsort(abs(proj), axis=1)[:, -10:][:, ::-1]\n",
    "\n",
    "for i, pci in enumerate(max_ids):\n",
    "    print(\"Top {} principal component\".format(i))\n",
    "    print(\"Top words with the highest weights: \")\n",
    "    print(['{}:{:.2f}'.format(feature_dict[j], proj[i,j]) for j in pci ])\n",
    "    print()"
   ]
  },
  {
   "cell_type": "markdown",
   "metadata": {},
   "source": [
    "Feature weights magnitude for 1st projection vector."
   ]
  },
  {
   "cell_type": "code",
   "execution_count": 30,
   "metadata": {},
   "outputs": [
    {
     "data": {
      "text/plain": [
       "<matplotlib.collections.PathCollection at 0x7f26d06f7128>"
      ]
     },
     "execution_count": 30,
     "metadata": {},
     "output_type": "execute_result"
    },
    {
     "data": {
      "image/png": "[encoded data removed]",
      "text/plain": [
       "<matplotlib.figure.Figure at 0x7f26d02c8208>"
      ]
     },
     "metadata": {},
     "output_type": "display_data"
    }
   ],
   "source": [
    "proj_1d = abs(proj[0])\n",
    "idx = np.argsort(proj_1d)[::-1]\n",
    "plt.scatter(range(len(idx)), proj_1d[idx])"
   ]
  },
  {
   "cell_type": "markdown",
   "metadata": {},
   "source": [
    "2D projection visualization."
   ]
  },
  {
   "cell_type": "code",
   "execution_count": 31,
   "metadata": {},
   "outputs": [
    {
     "data": {
      "image/png": "[encoded data removed]",
      "text/plain": [
       "<matplotlib.figure.Figure at 0x7f26d07ac908>"
      ]
     },
     "metadata": {},
     "output_type": "display_data"
    }
   ],
   "source": [
    "proj_2d = proj[:2,:]\n",
    "transformed_features = np.matmul(proj_2d, X.T).T\n",
    "\n",
    "# Plot restaurants by first two CCA dimensions\n",
    "plt.figure(figsize=(10,6))\n",
    "plt.scatter(transformed_features[:, 0],     # Select first column\n",
    "            transformed_features[:, 1],     # Select second column\n",
    "            c=y.flatten(), alpha=0.7)\n",
    "plt.colorbar(label='restaurant rating')\n",
    "plt.title('Restaurant ratings after CCA')\n",
    "plt.show()"
   ]
  },
  {
   "cell_type": "markdown",
   "metadata": {},
   "source": [
    "***\n",
    "\n",
    "## Prediction\n",
    "\n",
    "### Test user sampling\n",
    "Sample test user IDs and create corresponding train and validation datasets."
   ]
  },
  {
   "cell_type": "code",
   "execution_count": 32,
   "metadata": {},
   "outputs": [],
   "source": [
    "def sample_k_test_uids(review_counts, k, lower, upper):\n",
    "    uid = review_counts[(review_counts['num_reviews'] > lower) & \n",
    "                        (review_counts['num_reviews'] <= upper)]['user_id']\n",
    "    test_uid = np.random.permutation(uid)[:k]\n",
    "    return test_uid"
   ]
  },
  {
   "cell_type": "markdown",
   "metadata": {},
   "source": [
    "Group users by their review counts and evaluate performance for each group."
   ]
  },
  {
   "cell_type": "code",
   "execution_count": 33,
   "metadata": {},
   "outputs": [
    {
     "data": {
      "text/plain": [
       "(0, 1]          231629\n",
       "(1, 5]           84093\n",
       "(5, 10]           9647\n",
       "(10, 50]          5513\n",
       "(50, 100]          181\n",
       "(100, 500]          37\n",
       "(500, 1000]          1\n",
       "(1000, 5000]         0\n",
       "Name: bin, dtype: int64"
      ]
     },
     "execution_count": 33,
     "metadata": {},
     "output_type": "execute_result"
    }
   ],
   "source": [
    "review_counts = pd.DataFrame(df_sample.groupby('user_id', as_index=False).size(), \n",
    "                                columns =['num_reviews'])\n",
    "review_counts.reset_index(inplace=True)\n",
    "review_counts['bin'] = pd.cut(review_counts['num_reviews'], \n",
    "                              bins=[0, 1, 5, 10, 50, 100, 500, 1000, 5000])\n",
    "review_counts['bin'].value_counts()"
   ]
  },
  {
   "cell_type": "markdown",
   "metadata": {},
   "source": [
    "Sample test user IDs."
   ]
  },
  {
   "cell_type": "code",
   "execution_count": 34,
   "metadata": {},
   "outputs": [],
   "source": [
    "bounds = [(1, 5), (5, 10), (10, 50), (50, 100), (100, 500)]\n",
    "num_test_users = [1000, 1000, 500, 50, 10]\n",
    "test_sizes = [1, 1, 0.1, 0.1, 0.1]\n",
    "\n",
    "test_uids = []\n",
    "i = 0\n",
    "for lower, upper in bounds:\n",
    "    test_uids.append(sample_k_test_uids(review_counts, \n",
    "                                        num_test_users[i], \n",
    "                                        lower, upper))\n",
    "    i += 1"
   ]
  },
  {
   "cell_type": "markdown",
   "metadata": {},
   "source": [
    "Get train and test dataset.\n",
    "* `df_train` is used to generate feature representations of restaurants\n",
    "* `df_test` is used to evaluate algorithm performance"
   ]
  },
  {
   "cell_type": "code",
   "execution_count": 35,
   "metadata": {},
   "outputs": [],
   "source": [
    "test_uids_flatten = [uid for uids in test_uids for uid in uids]\n",
    "df_test_uids = pd.DataFrame(test_uids_flatten, columns = ['user_id'])\n",
    "df_test = df_sample.merge(df_test_uids, on = 'user_id')\n",
    "\n",
    "train_uids = set(review_counts['user_id']) - set(test_uids_flatten)\n",
    "df_train_uids = pd.DataFrame(list(train_uids), columns = ['user_id'])\n",
    "df_train = df_sample.merge(df_train_uids, on = 'user_id')"
   ]
  },
  {
   "cell_type": "markdown",
   "metadata": {},
   "source": [
    "Create X by constructing feature representations of the restaurants from list of word pairs."
   ]
  },
  {
   "cell_type": "code",
   "execution_count": 36,
   "metadata": {},
   "outputs": [
    {
     "name": "stdout",
     "output_type": "stream",
     "text": [
      "~~~~~ aggregating feature: word_pairs ~~~~~\n",
      "--- 43.45204710960388 seconds ---\n",
      "\n"
     ]
    }
   ],
   "source": [
    "params = {'min_df': 10, \n",
    "          'max_df': 0.5,\n",
    "          'max_features': 100}\n",
    "\n",
    "biz_col = 'business_id'\n",
    "feature_col = 'word_pairs'\n",
    "df_train_feat = text_to_feature(df_train, biz_col, feature_col, params)"
   ]
  },
  {
   "cell_type": "code",
   "execution_count": 37,
   "metadata": {},
   "outputs": [
    {
     "data": {
      "text/html": [
       "<div>\n",
       "<style scoped>\n",
       "    .dataframe tbody tr th:only-of-type {\n",
       "        vertical-align: middle;\n",
       "    }\n",
       "\n",
       "    .dataframe tbody tr th {\n",
       "        vertical-align: top;\n",
       "    }\n",
       "\n",
       "    .dataframe thead th {\n",
       "        text-align: right;\n",
       "    }\n",
       "</style>\n",
       "<table border=\"1\" class=\"dataframe\">\n",
       "  <thead>\n",
       "    <tr style=\"text-align: right;\">\n",
       "      <th></th>\n",
       "      <th>business_id</th>\n",
       "      <th>absolutely love</th>\n",
       "      <th>amazing food</th>\n",
       "      <th>authentic food</th>\n",
       "      <th>away blow</th>\n",
       "      <th>away stay</th>\n",
       "      <th>away walk</th>\n",
       "      <th>bad experience</th>\n",
       "      <th>bad service</th>\n",
       "      <th>big deal</th>\n",
       "      <th>...</th>\n",
       "      <th>perfectly cook</th>\n",
       "      <th>poor service</th>\n",
       "      <th>prime rib</th>\n",
       "      <th>quickly come</th>\n",
       "      <th>reasonable price</th>\n",
       "      <th>reasonably price</th>\n",
       "      <th>second time</th>\n",
       "      <th>short rib</th>\n",
       "      <th>small portion</th>\n",
       "      <th>sweet fry</th>\n",
       "    </tr>\n",
       "  </thead>\n",
       "  <tbody>\n",
       "    <tr>\n",
       "      <th>0</th>\n",
       "      <td>--6MefnULPED_I942VcFNA</td>\n",
       "      <td>0.000000</td>\n",
       "      <td>0.000000</td>\n",
       "      <td>0.0</td>\n",
       "      <td>0.000000</td>\n",
       "      <td>0.000000</td>\n",
       "      <td>0.050000</td>\n",
       "      <td>0.000000</td>\n",
       "      <td>0.000000</td>\n",
       "      <td>0.00000</td>\n",
       "      <td>...</td>\n",
       "      <td>0.00000</td>\n",
       "      <td>0.000000</td>\n",
       "      <td>0.000000</td>\n",
       "      <td>0.050000</td>\n",
       "      <td>0.000000</td>\n",
       "      <td>0.000000</td>\n",
       "      <td>0.000000</td>\n",
       "      <td>0.000000</td>\n",
       "      <td>0.000000</td>\n",
       "      <td>0.0</td>\n",
       "    </tr>\n",
       "    <tr>\n",
       "      <th>1</th>\n",
       "      <td>--9e1ONYQuAa-CB_Rrw7Tw</td>\n",
       "      <td>0.005824</td>\n",
       "      <td>0.009983</td>\n",
       "      <td>0.0</td>\n",
       "      <td>0.013311</td>\n",
       "      <td>0.003328</td>\n",
       "      <td>0.005824</td>\n",
       "      <td>0.003328</td>\n",
       "      <td>0.002496</td>\n",
       "      <td>0.00416</td>\n",
       "      <td>...</td>\n",
       "      <td>0.08985</td>\n",
       "      <td>0.003328</td>\n",
       "      <td>0.006656</td>\n",
       "      <td>0.005824</td>\n",
       "      <td>0.002496</td>\n",
       "      <td>0.010815</td>\n",
       "      <td>0.018303</td>\n",
       "      <td>0.003328</td>\n",
       "      <td>0.003328</td>\n",
       "      <td>0.0</td>\n",
       "    </tr>\n",
       "    <tr>\n",
       "      <th>2</th>\n",
       "      <td>--DaPTJW3-tB1vP-PfdTEg</td>\n",
       "      <td>0.000000</td>\n",
       "      <td>0.000000</td>\n",
       "      <td>0.0</td>\n",
       "      <td>0.000000</td>\n",
       "      <td>0.000000</td>\n",
       "      <td>0.000000</td>\n",
       "      <td>0.000000</td>\n",
       "      <td>0.000000</td>\n",
       "      <td>0.00000</td>\n",
       "      <td>...</td>\n",
       "      <td>0.00000</td>\n",
       "      <td>0.032258</td>\n",
       "      <td>0.000000</td>\n",
       "      <td>0.064516</td>\n",
       "      <td>0.000000</td>\n",
       "      <td>0.064516</td>\n",
       "      <td>0.000000</td>\n",
       "      <td>0.000000</td>\n",
       "      <td>0.000000</td>\n",
       "      <td>0.0</td>\n",
       "    </tr>\n",
       "    <tr>\n",
       "      <th>3</th>\n",
       "      <td>--KCl2FvVQpvjzmZSPyviA</td>\n",
       "      <td>0.000000</td>\n",
       "      <td>0.000000</td>\n",
       "      <td>0.0</td>\n",
       "      <td>0.000000</td>\n",
       "      <td>0.142857</td>\n",
       "      <td>0.000000</td>\n",
       "      <td>0.000000</td>\n",
       "      <td>0.000000</td>\n",
       "      <td>0.00000</td>\n",
       "      <td>...</td>\n",
       "      <td>0.00000</td>\n",
       "      <td>0.000000</td>\n",
       "      <td>0.000000</td>\n",
       "      <td>0.000000</td>\n",
       "      <td>0.000000</td>\n",
       "      <td>0.000000</td>\n",
       "      <td>0.142857</td>\n",
       "      <td>0.000000</td>\n",
       "      <td>0.000000</td>\n",
       "      <td>0.0</td>\n",
       "    </tr>\n",
       "    <tr>\n",
       "      <th>4</th>\n",
       "      <td>--Ni3oJ4VOqfOEu7Sj2Vzg</td>\n",
       "      <td>0.000000</td>\n",
       "      <td>0.000000</td>\n",
       "      <td>0.0</td>\n",
       "      <td>0.000000</td>\n",
       "      <td>0.000000</td>\n",
       "      <td>0.142857</td>\n",
       "      <td>0.000000</td>\n",
       "      <td>0.000000</td>\n",
       "      <td>0.00000</td>\n",
       "      <td>...</td>\n",
       "      <td>0.00000</td>\n",
       "      <td>0.000000</td>\n",
       "      <td>0.000000</td>\n",
       "      <td>0.000000</td>\n",
       "      <td>0.000000</td>\n",
       "      <td>0.000000</td>\n",
       "      <td>0.000000</td>\n",
       "      <td>0.000000</td>\n",
       "      <td>0.000000</td>\n",
       "      <td>0.0</td>\n",
       "    </tr>\n",
       "  </tbody>\n",
       "</table>\n",
       "<p>5 rows × 101 columns</p>\n",
       "</div>"
      ],
      "text/plain": [
       "              business_id  absolutely love  amazing food  authentic food  \\\n",
       "0  --6MefnULPED_I942VcFNA         0.000000      0.000000             0.0   \n",
       "1  --9e1ONYQuAa-CB_Rrw7Tw         0.005824      0.009983             0.0   \n",
       "2  --DaPTJW3-tB1vP-PfdTEg         0.000000      0.000000             0.0   \n",
       "3  --KCl2FvVQpvjzmZSPyviA         0.000000      0.000000             0.0   \n",
       "4  --Ni3oJ4VOqfOEu7Sj2Vzg         0.000000      0.000000             0.0   \n",
       "\n",
       "   away blow  away stay  away walk  bad experience  bad service  big deal  \\\n",
       "0   0.000000   0.000000   0.050000        0.000000     0.000000   0.00000   \n",
       "1   0.013311   0.003328   0.005824        0.003328     0.002496   0.00416   \n",
       "2   0.000000   0.000000   0.000000        0.000000     0.000000   0.00000   \n",
       "3   0.000000   0.142857   0.000000        0.000000     0.000000   0.00000   \n",
       "4   0.000000   0.000000   0.142857        0.000000     0.000000   0.00000   \n",
       "\n",
       "     ...      perfectly cook  poor service  prime rib  quickly come  \\\n",
       "0    ...             0.00000      0.000000   0.000000      0.050000   \n",
       "1    ...             0.08985      0.003328   0.006656      0.005824   \n",
       "2    ...             0.00000      0.032258   0.000000      0.064516   \n",
       "3    ...             0.00000      0.000000   0.000000      0.000000   \n",
       "4    ...             0.00000      0.000000   0.000000      0.000000   \n",
       "\n",
       "   reasonable price  reasonably price  second time  short rib  small portion  \\\n",
       "0          0.000000          0.000000     0.000000   0.000000       0.000000   \n",
       "1          0.002496          0.010815     0.018303   0.003328       0.003328   \n",
       "2          0.000000          0.064516     0.000000   0.000000       0.000000   \n",
       "3          0.000000          0.000000     0.142857   0.000000       0.000000   \n",
       "4          0.000000          0.000000     0.000000   0.000000       0.000000   \n",
       "\n",
       "   sweet fry  \n",
       "0        0.0  \n",
       "1        0.0  \n",
       "2        0.0  \n",
       "3        0.0  \n",
       "4        0.0  \n",
       "\n",
       "[5 rows x 101 columns]"
      ]
     },
     "execution_count": 37,
     "metadata": {},
     "output_type": "execute_result"
    }
   ],
   "source": [
    "# move business_id column to the first\n",
    "df_train_feat = move_biz_col_forward(df_train_feat)\n",
    "\n",
    "# creating feature lookup by column index\n",
    "feature_dict = {i:feat for i, feat in enumerate(list(df_train_feat.columns[1:]))}\n",
    "df_train_feat.head()"
   ]
  },
  {
   "cell_type": "code",
   "execution_count": 38,
   "metadata": {},
   "outputs": [],
   "source": [
    "def get_data_for_test_user(df_sample, df_train_feat, test_user_id, test_size=1):\n",
    "    # get business ids and ratings for given user\n",
    "    test_user_data = df_sample[df_sample['user_id'] == test_user_id]\n",
    "    \n",
    "    # remove restaurants not found on the train set\n",
    "    test_user_data = test_user_data[['business_id', 'stars']].merge(\n",
    "        df_train_feat, on = 'business_id')\n",
    "    \n",
    "    # get train test split\n",
    "    yt = test_user_data['stars'].values\n",
    "    Xt = test_user_data.drop(columns = ['stars', 'business_id']).as_matrix()\n",
    "    X_train, X_test, y_train, y_test = train_test_split(\n",
    "        Xt, yt, test_size=test_size, random_state=38562014)\n",
    "    return X_train, X_test, y_train, y_test\n",
    "\n",
    "def evaluate_models(df_sample, df_train_feat, test_uids):\n",
    "    clf = Ridge(alpha=1.0)\n",
    "    rmses = []\n",
    "    for i, user_group in enumerate(test_uids):\n",
    "        print('group {}: users with ({}, {}] reviews'.format(\n",
    "            i, bounds[i][0], bounds[i][1]))\n",
    "        test_size = test_sizes[i]\n",
    "        se, num_pred = 0, 0\n",
    "        start_time = time.time()\n",
    "\n",
    "        for test_user_id in user_group:\n",
    "            X_train, X_test, y_train, y_test = get_data_for_test_user(\n",
    "                df_sample, df_train_feat, test_user_id, \n",
    "                test_size=test_size)\n",
    "            clf.fit(X_train, y_train)\n",
    "            se += np.sum((clf.predict(X_test)-y_test)**2)\n",
    "            num_pred += len(y_test)\n",
    "\n",
    "        print(\"runtime: {:.2f} sec\".format(time.time() - start_time))\n",
    "\n",
    "        rmse = np.sqrt(se/num_pred)\n",
    "        rmses.append(rmse)\n",
    "\n",
    "        print('total number of predictions: ', num_pred)\n",
    "        print('root mean squared error: {:.3f}'.format(rmse))\n",
    "        print()\n",
    "    return rmses"
   ]
  },
  {
   "cell_type": "markdown",
   "metadata": {},
   "source": [
    "Feature representation 1 (full with d = 5) and performance."
   ]
  },
  {
   "cell_type": "code",
   "execution_count": 39,
   "metadata": {},
   "outputs": [
    {
     "name": "stdout",
     "output_type": "stream",
     "text": [
      "group 0: users with (1, 5] reviews\n",
      "runtime: 37.34 sec\n",
      "total number of predictions:  1000\n",
      "root mean squared error: 1.726\n",
      "\n",
      "group 1: users with (5, 10] reviews\n",
      "runtime: 37.88 sec\n",
      "total number of predictions:  1000\n",
      "root mean squared error: 1.276\n",
      "\n",
      "group 2: users with (10, 50] reviews\n",
      "runtime: 18.84 sec\n",
      "total number of predictions:  1172\n",
      "root mean squared error: 1.148\n",
      "\n",
      "group 3: users with (50, 100] reviews\n",
      "runtime: 1.88 sec\n",
      "total number of predictions:  360\n",
      "root mean squared error: 0.929\n",
      "\n",
      "group 4: users with (100, 500] reviews\n",
      "runtime: 0.41 sec\n",
      "total number of predictions:  153\n",
      "root mean squared error: 0.834\n",
      "\n"
     ]
    }
   ],
   "source": [
    "# full d=100 features\n",
    "rmses_full = evaluate_models(df_sample, df_train_feat, test_uids)"
   ]
  },
  {
   "cell_type": "markdown",
   "metadata": {},
   "source": [
    "Feature representation 2 (PCA with d = 5) and performance."
   ]
  },
  {
   "cell_type": "code",
   "execution_count": 40,
   "metadata": {},
   "outputs": [],
   "source": [
    "# top 5 PCA components\n",
    "X = df_train_feat.iloc[:, 1:]\n",
    "pca = PCA(n_components=5)\n",
    "transformed_features = pca.fit_transform(X)\n",
    "\n",
    "# get train features\n",
    "df_train_feat_pca = pd.DataFrame(transformed_features, \n",
    "                                 columns=['pca_{}'.format(i+1) for i in range(5)])\n",
    "df_train_feat_pca['business_id'] = df_train_feat['business_id']\n",
    "df_train_feat_pca = move_biz_col_forward(df_train_feat_pca)"
   ]
  },
  {
   "cell_type": "code",
   "execution_count": 41,
   "metadata": {},
   "outputs": [
    {
     "name": "stdout",
     "output_type": "stream",
     "text": [
      "group 0: users with (1, 5] reviews\n",
      "runtime: 36.94 sec\n",
      "total number of predictions:  1000\n",
      "root mean squared error: 1.727\n",
      "\n",
      "group 1: users with (5, 10] reviews\n",
      "runtime: 36.74 sec\n",
      "total number of predictions:  1000\n",
      "root mean squared error: 1.276\n",
      "\n",
      "group 2: users with (10, 50] reviews\n",
      "runtime: 18.72 sec\n",
      "total number of predictions:  1172\n",
      "root mean squared error: 1.148\n",
      "\n",
      "group 3: users with (50, 100] reviews\n",
      "runtime: 1.84 sec\n",
      "total number of predictions:  360\n",
      "root mean squared error: 0.926\n",
      "\n",
      "group 4: users with (100, 500] reviews\n",
      "runtime: 0.37 sec\n",
      "total number of predictions:  153\n",
      "root mean squared error: 0.839\n",
      "\n"
     ]
    }
   ],
   "source": [
    "rmses_pca = evaluate_models(df_sample, df_train_feat_pca, test_uids)"
   ]
  },
  {
   "cell_type": "markdown",
   "metadata": {},
   "source": [
    "Feature representation 3 (CCA with d = 5) and performance."
   ]
  },
  {
   "cell_type": "code",
   "execution_count": 42,
   "metadata": {},
   "outputs": [
    {
     "data": {
      "text/html": [
       "<div>\n",
       "<style scoped>\n",
       "    .dataframe tbody tr th:only-of-type {\n",
       "        vertical-align: middle;\n",
       "    }\n",
       "\n",
       "    .dataframe tbody tr th {\n",
       "        vertical-align: top;\n",
       "    }\n",
       "\n",
       "    .dataframe thead th {\n",
       "        text-align: right;\n",
       "    }\n",
       "</style>\n",
       "<table border=\"1\" class=\"dataframe\">\n",
       "  <thead>\n",
       "    <tr style=\"text-align: right;\">\n",
       "      <th></th>\n",
       "      <th>business_id</th>\n",
       "      <th>cca_1</th>\n",
       "      <th>cca_2</th>\n",
       "      <th>cca_3</th>\n",
       "      <th>cca_4</th>\n",
       "      <th>cca_5</th>\n",
       "    </tr>\n",
       "  </thead>\n",
       "  <tbody>\n",
       "    <tr>\n",
       "      <th>0</th>\n",
       "      <td>--6MefnULPED_I942VcFNA</td>\n",
       "      <td>0.923836</td>\n",
       "      <td>-0.073256</td>\n",
       "      <td>-0.620372</td>\n",
       "      <td>-0.058778</td>\n",
       "      <td>-0.089386</td>\n",
       "    </tr>\n",
       "    <tr>\n",
       "      <th>1</th>\n",
       "      <td>--9e1ONYQuAa-CB_Rrw7Tw</td>\n",
       "      <td>1.066220</td>\n",
       "      <td>0.199480</td>\n",
       "      <td>-0.221161</td>\n",
       "      <td>0.266256</td>\n",
       "      <td>-0.058024</td>\n",
       "    </tr>\n",
       "    <tr>\n",
       "      <th>2</th>\n",
       "      <td>--DaPTJW3-tB1vP-PfdTEg</td>\n",
       "      <td>1.032072</td>\n",
       "      <td>-0.156847</td>\n",
       "      <td>-0.163211</td>\n",
       "      <td>-0.157965</td>\n",
       "      <td>-0.150744</td>\n",
       "    </tr>\n",
       "    <tr>\n",
       "      <th>3</th>\n",
       "      <td>--KCl2FvVQpvjzmZSPyviA</td>\n",
       "      <td>1.003697</td>\n",
       "      <td>-0.281327</td>\n",
       "      <td>-0.450481</td>\n",
       "      <td>-0.191633</td>\n",
       "      <td>3.943485</td>\n",
       "    </tr>\n",
       "    <tr>\n",
       "      <th>4</th>\n",
       "      <td>--Ni3oJ4VOqfOEu7Sj2Vzg</td>\n",
       "      <td>0.840970</td>\n",
       "      <td>-0.095928</td>\n",
       "      <td>-0.169297</td>\n",
       "      <td>-0.237118</td>\n",
       "      <td>-0.171871</td>\n",
       "    </tr>\n",
       "  </tbody>\n",
       "</table>\n",
       "</div>"
      ],
      "text/plain": [
       "              business_id     cca_1     cca_2     cca_3     cca_4     cca_5\n",
       "0  --6MefnULPED_I942VcFNA  0.923836 -0.073256 -0.620372 -0.058778 -0.089386\n",
       "1  --9e1ONYQuAa-CB_Rrw7Tw  1.066220  0.199480 -0.221161  0.266256 -0.058024\n",
       "2  --DaPTJW3-tB1vP-PfdTEg  1.032072 -0.156847 -0.163211 -0.157965 -0.150744\n",
       "3  --KCl2FvVQpvjzmZSPyviA  1.003697 -0.281327 -0.450481 -0.191633  3.943485\n",
       "4  --Ni3oJ4VOqfOEu7Sj2Vzg  0.840970 -0.095928 -0.169297 -0.237118 -0.171871"
      ]
     },
     "execution_count": 42,
     "metadata": {},
     "output_type": "execute_result"
    }
   ],
   "source": [
    "# top 5 CCA components\n",
    "X = df_train_feat.iloc[:, 1:]\n",
    "\n",
    "ratings_data = df_train_feat.merge(df_all_biz, \n",
    "                                   left_on='business_id', right_on='id')\n",
    "y = ratings_data['stars'].values\n",
    "if len(y.shape) == 1: y = np.reshape(y, (-1, 1))\n",
    "proj = get_CCA_components(X, y, 5)\n",
    "transformed_features = np.matmul(proj, X.T).T\n",
    "\n",
    "# get train features\n",
    "df_train_feat_cca = pd.DataFrame(transformed_features, \n",
    "                                 columns=['cca_{}'.format(i+1) for i in range(5)])\n",
    "df_train_feat_cca['business_id'] = df_train_feat['business_id']\n",
    "df_train_feat_cca = move_biz_col_forward(df_train_feat_cca)\n",
    "\n",
    "df_train_feat_cca.head()"
   ]
  },
  {
   "cell_type": "code",
   "execution_count": 43,
   "metadata": {},
   "outputs": [
    {
     "name": "stdout",
     "output_type": "stream",
     "text": [
      "group 0: users with (1, 5] reviews\n",
      "runtime: 37.01 sec\n",
      "total number of predictions:  1000\n",
      "root mean squared error: 1.738\n",
      "\n",
      "group 1: users with (5, 10] reviews\n",
      "runtime: 36.97 sec\n",
      "total number of predictions:  1000\n",
      "root mean squared error: 1.363\n",
      "\n",
      "group 2: users with (10, 50] reviews\n",
      "runtime: 18.95 sec\n",
      "total number of predictions:  1172\n",
      "root mean squared error: 1.197\n",
      "\n",
      "group 3: users with (50, 100] reviews\n",
      "runtime: 1.88 sec\n",
      "total number of predictions:  360\n",
      "root mean squared error: 0.959\n",
      "\n",
      "group 4: users with (100, 500] reviews\n",
      "runtime: 0.38 sec\n",
      "total number of predictions:  153\n",
      "root mean squared error: 0.829\n",
      "\n"
     ]
    }
   ],
   "source": [
    "rmses_cca = evaluate_models(df_sample, df_train_feat_cca, test_uids)"
   ]
  },
  {
   "cell_type": "markdown",
   "metadata": {},
   "source": [
    "Plot the performances of all three feature representations."
   ]
  },
  {
   "cell_type": "code",
   "execution_count": 46,
   "metadata": {},
   "outputs": [
    {
     "data": {
      "image/png": "[encoded data removed]",
      "text/plain": [
       "<matplotlib.figure.Figure at 0x7f26d0cc6898>"
      ]
     },
     "metadata": {},
     "output_type": "display_data"
    }
   ],
   "source": [
    "x_labels = ['(1, 5]','(5, 10]','(10, 50]','(50, 100]','(100, 500]']\n",
    "x = range(len(x_labels))\n",
    "\n",
    "plt.figure(figsize=(10,6))\n",
    "plt.plot(x, rmses_full, label='full')\n",
    "plt.plot(x, rmses_pca, label='PCA')\n",
    "plt.plot(x, rmses_cca, label='CCA')\n",
    "plt.xticks(range(len(x_labels)), x_labels, size='small')\n",
    "plt.xlabel('user group')\n",
    "plt.ylabel('rmse')\n",
    "plt.legend()\n",
    "plt.show()"
   ]
  },
  {
   "cell_type": "code",
   "execution_count": 45,
   "metadata": {},
   "outputs": [],
   "source": [
    "db.close()"
   ]
  }
 ],
 "metadata": {
  "kernelspec": {
   "display_name": "Python 3",
   "language": "python",
   "name": "python3"
  },
  "language_info": {
   "codemirror_mode": {
    "name": "ipython",
    "version": 3
   },
   "file_extension": ".py",
   "mimetype": "text/x-python",
   "name": "python",
   "nbconvert_exporter": "python",
   "pygments_lexer": "ipython3",
   "version": "3.6.4"
  }
 },
 "nbformat": 4,
 "nbformat_minor": 2
}
